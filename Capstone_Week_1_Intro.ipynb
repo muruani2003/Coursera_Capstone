{
 "cells": [
  {
   "cell_type": "markdown",
   "metadata": {},
   "source": [
    "# Introduction/Business Problem\n",
    "When an individual is looking to establish a venue within a new city, one of the key consideration that they will need to make is the scale to which the type of venue they are looking to establish which is already exists within that particular city. In this case, the business I am working for are considering establishing a new venue in Bangalore, Karnataka within the next year or two. However, the business is uncertain of the current landscape of this location when it comes to the different venue types that are present within this locations vicinity. Therefore, prior to fully committing to this costly exercise, through the use of data science I want to explore the problem of what type of venues make up the largest percentage of venues within the location of Bangalore, Karnataka and thus, determine the type of venue I should invest in as a company."
   ]
  },
  {
   "cell_type": "code",
   "execution_count": null,
   "metadata": {},
   "outputs": [],
   "source": []
  }
 ],
 "metadata": {
  "kernelspec": {
   "display_name": "Python",
   "language": "python",
   "name": "conda-env-python-py"
  },
  "language_info": {
   "codemirror_mode": {
    "name": "ipython",
    "version": 3
   },
   "file_extension": ".py",
   "mimetype": "text/x-python",
   "name": "python",
   "nbconvert_exporter": "python",
   "pygments_lexer": "ipython3",
   "version": "3.6.10"
  }
 },
 "nbformat": 4,
 "nbformat_minor": 4
}
